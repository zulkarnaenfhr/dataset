{
 "cells": [
  {
   "cell_type": "code",
   "execution_count": 1,
   "metadata": {},
   "outputs": [],
   "source": [
    "import pandas as pd"
   ]
  },
  {
   "cell_type": "code",
   "execution_count": 2,
   "metadata": {},
   "outputs": [],
   "source": [
    "dfBalidanNusa = pd.read_csv('./ErickThohir_Bali dan Nusa Tenggara.csv', lineterminator='\\n')\n",
    "dfJakarta = pd.read_csv('./ErickThohir_Jakarta.csv', lineterminator='\\n')\n",
    "dfJabar = pd.read_csv('./ErickThohir_Jawa Barat.csv', lineterminator='\\n')\n",
    "dfJateng = pd.read_csv('./ErickThohir_Jawa Tengah.csv', lineterminator='\\n')\n",
    "dfTimur = pd.read_csv('./ErickThohir_Jawa Timur.csv', lineterminator='\\n')\n",
    "dfJogja = pd.read_csv('./ErickThohir_Jogja.csv', lineterminator='\\n')\n",
    "dfKalimantan = pd.read_csv('./ErickThohir_Kalimantan.csv', lineterminator='\\n')\n",
    "dfPapua = pd.read_csv('./ErickThohir_Papua.csv', lineterminator='\\n')\n",
    "dfSulawesi = pd.read_csv('./ErickThohir_Sulawesi.csv', lineterminator='\\n')\n",
    "dfSumatera = pd.read_csv('./ErickThohir_Sumatera.csv', lineterminator='\\n')"
   ]
  },
  {
   "cell_type": "code",
   "execution_count": 3,
   "metadata": {},
   "outputs": [],
   "source": [
    "dfConcat = pd.concat([dfBalidanNusa, dfJakarta, dfJabar, dfJateng, dfTimur, dfJogja, dfKalimantan, dfPapua, dfSulawesi, dfSumatera ], ignore_index=True)"
   ]
  },
  {
   "cell_type": "code",
   "execution_count": 4,
   "metadata": {},
   "outputs": [
    {
     "name": "stdout",
     "output_type": "stream",
     "text": [
      "<class 'pandas.core.frame.DataFrame'>\n",
      "RangeIndex: 61329 entries, 0 to 61328\n",
      "Data columns (total 6 columns):\n",
      " #   Column      Non-Null Count  Dtype \n",
      "---  ------      --------------  ----- \n",
      " 0   Unnamed: 0  61329 non-null  int64 \n",
      " 1   DateTime    61329 non-null  object\n",
      " 2   Tweet Id    61329 non-null  int64 \n",
      " 3   Tweet       61329 non-null  object\n",
      " 4   Username    61329 non-null  object\n",
      " 5   Location    12695 non-null  object\n",
      "dtypes: int64(2), object(4)\n",
      "memory usage: 2.8+ MB\n"
     ]
    }
   ],
   "source": [
    "dfConcat.info()"
   ]
  },
  {
   "cell_type": "code",
   "execution_count": 5,
   "metadata": {},
   "outputs": [],
   "source": [
    "df_new = dfConcat.loc[:, ['DateTime', 'Tweet Id', 'Tweet', 'Username', 'Location']] # using loc"
   ]
  },
  {
   "cell_type": "code",
   "execution_count": 6,
   "metadata": {},
   "outputs": [],
   "source": [
    "df_new = df_new.reset_index(drop=True)"
   ]
  },
  {
   "cell_type": "code",
   "execution_count": 7,
   "metadata": {},
   "outputs": [],
   "source": [
    "df_new.to_csv('0. Data_Erick_Full.csv')"
   ]
  }
 ],
 "metadata": {
  "kernelspec": {
   "display_name": "Python 3",
   "language": "python",
   "name": "python3"
  },
  "language_info": {
   "codemirror_mode": {
    "name": "ipython",
    "version": 3
   },
   "file_extension": ".py",
   "mimetype": "text/x-python",
   "name": "python",
   "nbconvert_exporter": "python",
   "pygments_lexer": "ipython3",
   "version": "3.7.2"
  },
  "orig_nbformat": 4,
  "vscode": {
   "interpreter": {
    "hash": "f437ff1e989411ecf21e3ca24018553537f05bc98f5b580ff3c311c38180adb8"
   }
  }
 },
 "nbformat": 4,
 "nbformat_minor": 2
}
