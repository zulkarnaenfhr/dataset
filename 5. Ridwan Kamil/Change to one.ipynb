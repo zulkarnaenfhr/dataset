{
 "cells": [
  {
   "cell_type": "code",
   "execution_count": 1,
   "metadata": {},
   "outputs": [],
   "source": [
    "import pandas as pd"
   ]
  },
  {
   "cell_type": "code",
   "execution_count": 2,
   "metadata": {},
   "outputs": [],
   "source": [
    "dfBalidanNusa = pd.read_csv('./Ridwan Kamil_Bali dan Nusa Tenggara.csv', lineterminator='\\n')\n",
    "dfJakarta = pd.read_csv('./Ridwan Kamil_Jakarta.csv', lineterminator='\\n')\n",
    "dfJabar = pd.read_csv('./Ridwan Kamil_Jawa Barat.csv', lineterminator='\\n')\n",
    "dfJateng = pd.read_csv('./Ridwan Kamil_Jawa Tengah.csv', lineterminator='\\n')\n",
    "dfTimur = pd.read_csv('./Ridwan Kamil_Jawa Timur.csv', lineterminator='\\n')\n",
    "dfJogja = pd.read_csv('./Ridwan Kamil_Jogja.csv', lineterminator='\\n')\n",
    "dfKalimantan = pd.read_csv('./Ridwan Kamil_Kalimantan.csv', lineterminator='\\n')\n",
    "dfPapua = pd.read_csv('./Ridwan Kamil_Papua.csv', lineterminator='\\n')\n",
    "dfSulawesi = pd.read_csv('./Ridwan Kamil_Sulawesi.csv', lineterminator='\\n')\n",
    "dfSumatera = pd.read_csv('./Ridwan Kamil_Sumatera.csv', lineterminator='\\n')"
   ]
  },
  {
   "cell_type": "code",
   "execution_count": 3,
   "metadata": {},
   "outputs": [],
   "source": [
    "dfConcat = pd.concat([dfBalidanNusa, dfJakarta, dfJabar, dfJateng, dfTimur, dfJogja, dfKalimantan, dfPapua, dfSulawesi, dfSumatera ], ignore_index=True)"
   ]
  },
  {
   "cell_type": "code",
   "execution_count": 4,
   "metadata": {},
   "outputs": [
    {
     "name": "stdout",
     "output_type": "stream",
     "text": [
      "<class 'pandas.core.frame.DataFrame'>\n",
      "RangeIndex: 70149 entries, 0 to 70148\n",
      "Data columns (total 7 columns):\n",
      " #   Column      Non-Null Count  Dtype  \n",
      "---  ------      --------------  -----  \n",
      " 0   Unnamed: 0  70149 non-null  int64  \n",
      " 1   DateTime    70149 non-null  object \n",
      " 2   Tweet Id    70149 non-null  float64\n",
      " 3   Tweet       70149 non-null  object \n",
      " 4   Username    70149 non-null  object \n",
      " 5   Location    20843 non-null  object \n",
      "           49 non-null     object \n",
      "dtypes: float64(1), int64(1), object(5)\n",
      "memory usage: 3.7+ MB\n"
     ]
    }
   ],
   "source": [
    "dfConcat.info()"
   ]
  },
  {
   "cell_type": "code",
   "execution_count": 5,
   "metadata": {},
   "outputs": [],
   "source": [
    "df_new = dfConcat.loc[:, ['DateTime', 'Tweet Id', 'Tweet', 'Username', 'Location']] # using loc"
   ]
  },
  {
   "cell_type": "code",
   "execution_count": 6,
   "metadata": {},
   "outputs": [],
   "source": [
    "df_new = df_new.reset_index(drop=True)"
   ]
  },
  {
   "cell_type": "code",
   "execution_count": 7,
   "metadata": {},
   "outputs": [],
   "source": [
    "df_new.to_csv('0. Data_Ridwan_Full.csv')"
   ]
  }
 ],
 "metadata": {
  "kernelspec": {
   "display_name": "Python 3",
   "language": "python",
   "name": "python3"
  },
  "language_info": {
   "codemirror_mode": {
    "name": "ipython",
    "version": 3
   },
   "file_extension": ".py",
   "mimetype": "text/x-python",
   "name": "python",
   "nbconvert_exporter": "python",
   "pygments_lexer": "ipython3",
   "version": "3.7.2"
  },
  "orig_nbformat": 4,
  "vscode": {
   "interpreter": {
    "hash": "f437ff1e989411ecf21e3ca24018553537f05bc98f5b580ff3c311c38180adb8"
   }
  }
 },
 "nbformat": 4,
 "nbformat_minor": 2
}
