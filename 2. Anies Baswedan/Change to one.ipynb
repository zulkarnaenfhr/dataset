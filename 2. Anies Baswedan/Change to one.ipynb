{
 "cells": [
  {
   "cell_type": "code",
   "execution_count": 1,
   "metadata": {},
   "outputs": [],
   "source": [
    "import pandas as pd"
   ]
  },
  {
   "cell_type": "code",
   "execution_count": 2,
   "metadata": {},
   "outputs": [],
   "source": [
    "dfBalidanNusa = pd.read_csv('./AniesBaswedan_Bali dan Nusa Tenggara.csv')\n",
    "dfJakarta = pd.read_csv('./AniesBaswedan_Jakarta.csv')\n",
    "dfJabar = pd.read_csv('./AniesBaswedan_Jawa Barat.csv')\n",
    "dfJateng = pd.read_csv('./AniesBaswedan_Jawa Tengah.csv')\n",
    "dfTimur = pd.read_csv('./AniesBaswedan_Jawa Timur.csv')\n",
    "dfJogja = pd.read_csv('./AniesBaswedan_Jogja.csv')\n",
    "dfKalimantan = pd.read_csv('./AniesBaswedan_Kalimantan.csv')\n",
    "dfPapua = pd.read_csv('./AniesBaswedan_Papua.csv')\n",
    "dfSulawesi = pd.read_csv('./AniesBaswedan_Sulawesi.csv')\n",
    "dfSumatera = pd.read_csv('./AniesBaswedan_Sumatera.csv')"
   ]
  },
  {
   "cell_type": "code",
   "execution_count": 3,
   "metadata": {},
   "outputs": [],
   "source": [
    "dfConcat = pd.concat([dfBalidanNusa, dfJakarta, dfJabar, dfJateng, dfTimur, dfJogja, dfKalimantan, dfPapua, dfSulawesi, dfSumatera ], ignore_index=True)"
   ]
  },
  {
   "cell_type": "code",
   "execution_count": 8,
   "metadata": {},
   "outputs": [
    {
     "name": "stdout",
     "output_type": "stream",
     "text": [
      "<class 'pandas.core.frame.DataFrame'>\n",
      "RangeIndex: 98019 entries, 0 to 98018\n",
      "Data columns (total 5 columns):\n",
      " #   Column    Non-Null Count  Dtype \n",
      "---  ------    --------------  ----- \n",
      " 0   DateTime  98019 non-null  object\n",
      " 1   Tweet Id  98019 non-null  int64 \n",
      " 2   Tweet     98019 non-null  object\n",
      " 3   Username  98019 non-null  object\n",
      " 4   Location  37544 non-null  object\n",
      "dtypes: int64(1), object(4)\n",
      "memory usage: 3.7+ MB\n"
     ]
    }
   ],
   "source": [
    "dfConcat.info()"
   ]
  },
  {
   "cell_type": "code",
   "execution_count": 5,
   "metadata": {},
   "outputs": [],
   "source": [
    "df_new = dfConcat.loc[:, ['DateTime', 'Tweet Id', 'Tweet', 'Username', 'Location']] # using loc"
   ]
  },
  {
   "cell_type": "code",
   "execution_count": 6,
   "metadata": {},
   "outputs": [],
   "source": [
    "df_new = df_new.reset_index(drop=True)"
   ]
  },
  {
   "cell_type": "code",
   "execution_count": 7,
   "metadata": {},
   "outputs": [],
   "source": [
    "df_new.to_csv('0. Data_Anies_Full.csv')"
   ]
  }
 ],
 "metadata": {
  "kernelspec": {
   "display_name": "Python 3",
   "language": "python",
   "name": "python3"
  },
  "language_info": {
   "codemirror_mode": {
    "name": "ipython",
    "version": 3
   },
   "file_extension": ".py",
   "mimetype": "text/x-python",
   "name": "python",
   "nbconvert_exporter": "python",
   "pygments_lexer": "ipython3",
   "version": "3.7.2"
  },
  "orig_nbformat": 4,
  "vscode": {
   "interpreter": {
    "hash": "f437ff1e989411ecf21e3ca24018553537f05bc98f5b580ff3c311c38180adb8"
   }
  }
 },
 "nbformat": 4,
 "nbformat_minor": 2
}
